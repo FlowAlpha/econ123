{
  "cells": [
    {
      "cell_type": "markdown",
      "metadata": {
        "id": "view-in-github",
        "colab_type": "text"
      },
      "source": [
        "<a href=\"https://colab.research.google.com/github/FlowAlpha/econ123/blob/main/proj2.ipynb\" target=\"_parent\"><img src=\"https://colab.research.google.com/assets/colab-badge.svg\" alt=\"Open In Colab\"/></a>"
      ]
    },
    {
      "cell_type": "markdown",
      "metadata": {
        "id": "C9JMfu_3brAQ"
      },
      "source": [
        "# Project 2"
      ]
    },
    {
      "cell_type": "markdown",
      "metadata": {
        "id": "1ATTa1tYbrAR"
      },
      "source": [
        "## Setup"
      ]
    },
    {
      "cell_type": "code",
      "execution_count": null,
      "metadata": {
        "vscode": {
          "languageId": "r"
        },
        "id": "ThfeZ-HJbrAS"
      },
      "outputs": [],
      "source": [
        "# Setup\n",
        "\n",
        "setwd(\"~/Documents/ECON123/Proj2\")\n",
        "library(haven)\n",
        "library(ggplot2)\n",
        "library(dplyr)\n",
        "library(tseries)\n",
        "library(cowplot)\n",
        "library(car)\n",
        "library(targeted)\n",
        "library(pwr)"
      ]
    },
    {
      "cell_type": "code",
      "execution_count": null,
      "metadata": {
        "vscode": {
          "languageId": "r"
        },
        "id": "qH0yUA0TbrAT"
      },
      "outputs": [],
      "source": [
        "# Import data\n",
        "dta <- read_dta(\"data/AEJApp-20090168_data.dta\")\n",
        "write.csv(dta, file = \"data/AEJApp-data.csv\")\n",
        "dt <- read.csv(\"data/AEJApp-data.csv\")\n",
        "\n",
        "# Globals\n",
        "# Get Women/Men treated and non-treated\n",
        "sel <- filter(dt, select==1)\n",
        "nsel <- filter(dt, select==0)\n",
        "dt_f <- filter(dt, dwomen==1)\n",
        "dt_m <- filter(dt, dwomen==0)\n"
      ]
    },
    {
      "cell_type": "markdown",
      "metadata": {
        "id": "yR8j5evGbrAT"
      },
      "source": [
        "## Questions"
      ]
    },
    {
      "cell_type": "markdown",
      "metadata": {
        "id": "E-PEOyO8brAT"
      },
      "source": [
        "### Question 1\n",
        "    What defines the power of the experiment: the proportion randomized into treatment and control (2/3 and 1/3) or the proportion sampled in treatment and control (1/2 and 1/2)? \n"
      ]
    },
    {
      "cell_type": "markdown",
      "metadata": {
        "id": "knvblpCAbrAT"
      },
      "source": [
        "Power refers to the sample distributions, so the propertion sampled would define the power of the experiment. "
      ]
    },
    {
      "cell_type": "markdown",
      "metadata": {
        "id": "gvfsGuA1brAU"
      },
      "source": [
        "### Question 2\n",
        "    Examine how well balanced the resulting treatment and control samples are. Do this first by comparing the means of selected variables between treatment and control. Construct individual t-tests for the null hypothesis that they are the same across treatment and control at baseline. Then construct a joint F-test of the null hypothesis that a selected set of baseline characteristics cannot explain allocation to treatment. What reasoning did you use to choose the variables to test for balance? "
      ]
    },
    {
      "cell_type": "code",
      "execution_count": null,
      "metadata": {
        "vscode": {
          "languageId": "r"
        },
        "id": "5SisDN43brAU",
        "outputId": "7a9f178c-e6ad-4d68-bdc8-daa796b7170f"
      },
      "outputs": [
        {
          "name": "stdout",
          "output_type": "stream",
          "text": [
            "               var Treated_means Control_means     diff\n",
            "1              Age        21.079        21.234   -0.155\n",
            "2          Married         0.186         0.201   -0.016\n",
            "3       Employment         0.535         0.501    0.035\n",
            "4           Salary    105722.451     99662.552 6059.899\n",
            "5           Tenure         4.034         3.201    0.833\n",
            "6      Days Worked        12.761        12.042    0.719\n",
            "7     Hours Worked        26.785        24.882    1.903\n",
            "8       Contracted         0.084         0.085   -0.001\n",
            "9           Formal         0.097         0.085    0.013\n",
            "10   Yrs Education        10.172         9.993    0.179\n",
            "11 Paid Employment         0.388         0.346    0.043\n"
          ]
        }
      ],
      "source": [
        "# Get Women/Men treated and non-treated\n",
        "sel <- filter(dt, select==1)\n",
        "nsel <- filter(dt, select==0)\n",
        "\n",
        "\n",
        "# Calculate means of above\n",
        "sel_means <- as.double(colMeans(sel, na.rm=TRUE))\n",
        "nsel_means <- as.double(colMeans(nsel, na.rm=TRUE))\n",
        "\n",
        "# Create dataframe with information, reduce to variables we care about\n",
        "var_names <- c('Age', 'Married', 'Employment', 'Salary', 'Tenure', 'Days Worked', 'Hours Worked', 'Contracted', 'Formal', 'Yrs Education', 'Paid Employment')\n",
        "df <- data.frame(colnames(dt), sel_means, nsel_means)\n",
        "colnames(df) <- c('var', 'Treated_means', 'Control_means')\n",
        "df <- filter(df, var ==\"empl_04\" | var == \"pempl_04\" | var == \"contract_04\" | var == \"salary_04\" | var == \"dformal_04\" | var == \"tenure_04\" | var == \"days_04\" | var == \"hours_04\" | var == \"educ_lb\" | var == \"age_lb\" | var == \"dmarried_lb\")\n",
        "\n",
        "# Make it easy to read\n",
        "df$var <- var_names\n",
        "df$diff <- round(df$Treated_means-df$Control_means, digits=3)\n",
        "df[,-1] <- round(df[,-1], digits=3)\n",
        "means1_df <- df\n",
        "print(means1_df)"
      ]
    },
    {
      "cell_type": "code",
      "execution_count": null,
      "metadata": {
        "vscode": {
          "languageId": "r"
        },
        "id": "YXZR83iBbrAU",
        "outputId": "1124934c-880a-4976-874b-7d884bfdedb4"
      },
      "outputs": [
        {
          "data": {
            "text/html": [
              "0.967124608495787"
            ],
            "text/latex": [
              "0.967124608495787"
            ],
            "text/markdown": [
              "0.967124608495787"
            ],
            "text/plain": [
              "[1] 0.9671246"
            ]
          },
          "metadata": {},
          "output_type": "display_data"
        },
        {
          "data": {
            "text/html": [
              "0.855574464530659"
            ],
            "text/latex": [
              "0.855574464530659"
            ],
            "text/markdown": [
              "0.855574464530659"
            ],
            "text/plain": [
              "[1] 0.8555745"
            ]
          },
          "metadata": {},
          "output_type": "display_data"
        },
        {
          "data": {
            "text/html": [
              "0.168305076818076"
            ],
            "text/latex": [
              "0.168305076818076"
            ],
            "text/markdown": [
              "0.168305076818076"
            ],
            "text/plain": [
              "[1] 0.1683051"
            ]
          },
          "metadata": {},
          "output_type": "display_data"
        }
      ],
      "source": [
        "# t-testing and f-testing\n",
        "\n",
        "ttest <- t.test(means1_df[2], means1_df[3])\n",
        "ttest$p.value\n",
        "\n",
        "# F-testing with standout variables above\n",
        "\n",
        "model <- lm(select ~ salary_04 + hours_04 + days_04 + empl_04, data=dt)\n",
        "model1 <- lm(select ~ empl_04 + pempl_04 + contract_04 + salary_04 + dformal_04 + tenure_04 + days_04 + hours_04 + educ_lb + age_lb + dmarried_lb, data=dt)\n",
        "test<- linearHypothesis(model, c(\"salary_04=0\", \"hours_04=0\", \"days_04=0\", \"empl_04=0\"))\n",
        "test2 <- var.test(means1_df$Treated_means, means1_df$Control_means)\n",
        "#test3 <- var.test(sel$pempl_04, nsel$pempl_04)\n",
        "test2$p.value\n",
        "test$'Pr(>F)'[2]\n",
        "#t<-aov(lm(select ~ empl_04 + pempl_04 + contract_04 + salary_04 + dformal_04 + tenure_04 + days_04 + hours_04 + educ_lb + age_lb + dmarried_lb, data=dt))\n",
        "#summary(t)"
      ]
    },
    {
      "cell_type": "markdown",
      "metadata": {
        "id": "eRLvGFp2brAU"
      },
      "source": [
        "* 1st number represents t-test p-value\n",
        "* 2nd number represents the p-value on variation f-test on the means\n",
        "* 3rd number represents the p-value on linear hypothesis on the null hypothesis that coefficients that salary, hours worked, and days worked are zero when they are regressed on select (treatment variable).\n",
        "\n",
        "Above, used the var.test to f-test the variances in the means of many variables (most of the ones shown in the first paper). The p-value is 0.856 > 0.05, therefore there is no significant difference in the variances of the means. Then, using the linearHypothesis to test a few of the variables. Using some of the variables from the difference table and linearHypothesis (uses F-test), we can see that when salary, hours, days, and employment are not enought to reject the null hypothesis. Logically, the alternative hypothesis is excepted that those variables statisically cannot explain allocation to treatment."
      ]
    },
    {
      "cell_type": "markdown",
      "metadata": {
        "id": "KclnTKnmbrAV"
      },
      "source": [
        "### Question 3\n",
        "      Estimate the treatment effect for employment and earnings for men and women separately and overall.\n",
        "\n"
      ]
    },
    {
      "cell_type": "code",
      "execution_count": null,
      "metadata": {
        "vscode": {
          "languageId": "r"
        },
        "id": "2JCGPjMtbrAV",
        "outputId": "fecc91ef-9e05-4bcf-dc07-427771debf2a"
      },
      "outputs": [
        {
          "name": "stdout",
          "output_type": "stream",
          "text": [
            "            group       ATE       ATT\n",
            "1 Employment Both     0.038     0.038\n",
            "2  Employment (f)     0.066     0.066\n",
            "3  Employment (m)    -0.006    -0.006\n",
            "4     Salary Both 39851.191 39851.191\n",
            "5      Salary (f) 37462.658 37462.658\n",
            "6      Salary (m) 37123.674 37123.674\n"
          ]
        }
      ],
      "source": [
        "# Treatment effect for employment overall\n",
        "E_Y_X_1 <- dt %>% filter(select==1) %>% summarise(conditional_mean = mean(empl_06,na.rm=TRUE))\n",
        "E_Y_X_0 <- dt %>% filter(select==0) %>% summarise(conditional_mean = mean(empl_06, na.rm=TRUE))\n",
        "ATE_e_both <- round(as.double(E_Y_X_1 - E_Y_X_0), digits=3)\n",
        "\n",
        "E_Y_X_1 <- dt %>% filter(select==1) %>% summarise(conditional_mean = mean(salary_06,na.rm=TRUE))\n",
        "E_Y_X_0 <- dt %>% filter(select==0) %>% summarise(conditional_mean = mean(salary_06, na.rm=TRUE))\n",
        "ATE_s_both <- round(as.double(E_Y_X_1 - E_Y_X_0), digits=3)\n",
        "\n",
        "# Women\n",
        "E_Y_X_1 <- dt_f %>% filter(select==1) %>% summarise(conditional_mean = mean(empl_06,na.rm=TRUE))\n",
        "E_Y_X_0 <- dt_f %>% filter(select==0) %>% summarise(conditional_mean = mean(empl_06, na.rm=TRUE))\n",
        "ATE_e_f <- round(as.double(E_Y_X_1 - E_Y_X_0), digits=3)\n",
        "\n",
        "E_Y_X_1 <- dt_f %>% filter(select==1) %>% summarise(conditional_mean = mean(salary_06,na.rm=TRUE))\n",
        "E_Y_X_0 <- dt_f %>% filter(select==0) %>% summarise(conditional_mean = mean(salary_06, na.rm=TRUE))\n",
        "ATE_s_f <- round(as.double(E_Y_X_1 - E_Y_X_0), digits=3)\n",
        "\n",
        "# Men\n",
        "E_Y_X_1 <- dt_m %>% filter(select==1) %>% summarise(conditional_mean = mean(empl_06,na.rm=TRUE))\n",
        "E_Y_X_0 <- dt_m %>% filter(select==0) %>% summarise(conditional_mean = mean(empl_06, na.rm=TRUE))\n",
        "ATE_e_m <- round(as.double(E_Y_X_1 - E_Y_X_0), digits=3)\n",
        "\n",
        "E_Y_X_1 <- dt_m %>% filter(select==1) %>% summarise(conditional_mean = mean(salary_06,na.rm=TRUE))\n",
        "E_Y_X_0 <- dt_m %>% filter(select==0) %>% summarise(conditional_mean = mean(salary_06, na.rm=TRUE))\n",
        "ATE_s_m <- round(as.double(E_Y_X_1 - E_Y_X_0), digits=3)\n",
        "\n",
        "# All together:\n",
        "ATE <- c(ATE_e_both, ATE_e_f, ATE_e_m, ATE_s_both, ATE_s_f, ATE_s_m)\n",
        "group <- c('Employment Both', 'Employment (f)', 'Employment (m)', 'Salary Both', 'Salary (f)', 'Salary (m)')\n",
        "\n",
        "\n",
        "# ATT effect for employment overall\n",
        "E_Y_X_1 <- sel %>% filter(select==1) %>% summarise(conditional_mean = mean(empl_06,na.rm=TRUE))\n",
        "E_Y_X_0 <- nsel %>% filter(select==0) %>% summarise(conditional_mean = mean(empl_06, na.rm=TRUE))\n",
        "ATT_e_both <- round(as.double(E_Y_X_1 - E_Y_X_0), digits=3)\n",
        "\n",
        "E_Y_X_1 <- sel %>% filter(select==1) %>% summarise(conditional_mean = mean(salary_06,na.rm=TRUE))\n",
        "E_Y_X_0 <- nsel %>% filter(select==0) %>% summarise(conditional_mean = mean(salary_06, na.rm=TRUE))\n",
        "ATT_s_both <- round(as.double(E_Y_X_1 - E_Y_X_0), digits=3)\n",
        "\n",
        "# Women\n",
        "E_Y_X_1 <- filter(sel, dwomen==1) %>% filter(select==1) %>% summarise(conditional_mean = mean(empl_06,na.rm=TRUE))\n",
        "E_Y_X_0 <- filter(nsel, dwomen==1) %>% filter(select==0) %>% summarise(conditional_mean = mean(empl_06, na.rm=TRUE))\n",
        "ATT_e_f <- round(as.double(E_Y_X_1 - E_Y_X_0), digits=3)\n",
        "\n",
        "E_Y_X_1 <- filter(sel, dwomen==1) %>% filter(select==1) %>% summarise(conditional_mean = mean(salary_06,na.rm=TRUE))\n",
        "E_Y_X_0 <- filter(nsel, dwomen==1) %>% filter(select==0) %>% summarise(conditional_mean = mean(salary_06, na.rm=TRUE))\n",
        "ATT_s_f <- round(as.double(E_Y_X_1 - E_Y_X_0), digits=3)\n",
        "\n",
        "# Men\n",
        "E_Y_X_1 <- filter(sel, dwomen==0) %>% filter(select==1) %>% summarise(conditional_mean = mean(empl_06,na.rm=TRUE))\n",
        "E_Y_X_0 <- filter(nsel, dwomen==0) %>% filter(select==0) %>% summarise(conditional_mean = mean(empl_06, na.rm=TRUE))\n",
        "ATT_e_m <- round(as.double(E_Y_X_1 - E_Y_X_0), digits=3)\n",
        "\n",
        "E_Y_X_1 <- filter(sel, dwomen==0) %>% filter(select==1) %>% summarise(conditional_mean = mean(salary_06,na.rm=TRUE))\n",
        "E_Y_X_0 <- filter(nsel, dwomen==0) %>% filter(select==0) %>% summarise(conditional_mean = mean(salary_06, na.rm=TRUE))\n",
        "ATT_s_m <- round(as.double(E_Y_X_1 - E_Y_X_0), digits=3)\n",
        "\n",
        "# Together:\n",
        "ATT <- c(ATT_e_both, ATT_e_f, ATT_e_m, ATT_s_both, ATT_s_f, ATT_s_m)\n",
        "treat_frame <- data.frame(group, ATE, ATT)\n",
        "print(treat_frame)\n"
      ]
    },
    {
      "cell_type": "markdown",
      "metadata": {
        "id": "HrPe5ufabrAV"
      },
      "source": [
        "It's important to note that these ATEs ATTs are biased because the randomization took place within the control centers, not before being assigned."
      ]
    },
    {
      "cell_type": "markdown",
      "metadata": {
        "id": "wHhUazgwbrAV"
      },
      "source": [
        "### Question 4\n",
        "    Test that the impact on males and females is the same. "
      ]
    },
    {
      "cell_type": "markdown",
      "metadata": {
        "id": "1hvheAgnbrAV"
      },
      "source": [
        "First, we'll do what we did in #2, but separating by gender:"
      ]
    },
    {
      "cell_type": "code",
      "execution_count": null,
      "metadata": {
        "vscode": {
          "languageId": "r"
        },
        "id": "bsa6soOzbrAV",
        "outputId": "57e7db1a-4eb0-4e2b-bc61-ef79685c15a2"
      },
      "outputs": [
        {
          "name": "stdout",
          "output_type": "stream",
          "text": [
            "               var  fs_means fns_means   f_diff   ms_means  mns_means   m_diff\n",
            "1              Age    21.255    21.392   -0.138     20.880     21.043   -0.163\n",
            "2          Married     0.270     0.262    0.008      0.091      0.128   -0.037\n",
            "3       Employment     0.474     0.455    0.018      0.605      0.555    0.050\n",
            "4           Salary 88448.292 83923.286 4525.006 125270.951 118745.958 6524.992\n",
            "5           Tenure     3.756     2.753    1.003      4.356      3.777    0.579\n",
            "6      Days Worked    11.373    10.793    0.580     14.331     13.557    0.775\n",
            "7     Hours Worked    23.511    22.132    1.378     30.490     28.216    2.274\n",
            "8       Contracted     0.071     0.070    0.002      0.098      0.103   -0.005\n",
            "9           Formal     0.078     0.064    0.014      0.119      0.110    0.009\n",
            "10   Yrs Education    10.098     9.929    0.169     10.257     10.071    0.186\n",
            "11 Paid Employment     0.352     0.327    0.025      0.429      0.368    0.061\n",
            "   diff_of_diff\n",
            "1         0.025\n",
            "2         0.045\n",
            "3        -0.031\n",
            "4     -1999.986\n",
            "5         0.424\n",
            "6        -0.195\n",
            "7        -0.896\n",
            "8         0.006\n",
            "9         0.004\n",
            "10       -0.017\n",
            "11       -0.036\n"
          ]
        }
      ],
      "source": [
        "# Get Women/Men treated and non-treated\n",
        "sel <- filter(dt, select==1)\n",
        "nsel <- filter(dt, select==0)\n",
        "fsel<- filter(sel, dwomen == 1)\n",
        "msel<- filter(sel, dwomen == 0)\n",
        "f_nsel <- filter(nsel, dwomen==1)\n",
        "m_nsel<- filter(nsel, dwomen == 0)\n",
        "\n",
        "# Calculate means of above\n",
        "fs_means <- as.double(colMeans(fsel, na.rm=TRUE))\n",
        "ms_means <- as.double(colMeans(msel, na.rm=TRUE))\n",
        "fns_means <- as.double(colMeans(f_nsel, na.rm=TRUE))\n",
        "mns_means <- as.double(colMeans(m_nsel, na.rm=TRUE))\n",
        "\n",
        "# Create dataframe with information, reduce to variables we care about\n",
        "var_names <- c('Age', 'Married', 'Employment', 'Salary', 'Tenure', 'Days Worked', 'Hours Worked', 'Contracted', 'Formal', 'Yrs Education', 'Paid Employment')\n",
        "df <- data.frame(colnames(dt), fs_means, ms_means, fns_means, mns_means)\n",
        "colnames(df) <- c('var', 'fs_means', 'ms_means','fns_means', 'mns_means')\n",
        "df <- filter(df, var ==\"empl_04\" | var == \"pempl_04\" | var == \"contract_04\" | var == \"salary_04\" | var == \"dformal_04\" | var == \"tenure_04\" | var == \"days_04\" | var == \"hours_04\" | var == \"educ_lb\" | var == \"age_lb\" | var == \"dmarried_lb\")\n",
        "\n",
        "# Make it easy to read\n",
        "df$var <- var_names\n",
        "df$f_diff <- round(df$fs_means-df$fns_means, digits=3)\n",
        "df$m_diff <- round(df$ms_means-df$mns_means, digits=3)\n",
        "df$diff_of_diff <- round((df$fs_means-df$fns_means) - (df$ms_means-df$mns_means), digits=3)\n",
        "df[,-1] <- round(df[,-1], digits=3)\n",
        "means_df2 <- df[,c(1,2,4,6,3,5,7, 8)]\n",
        "\n",
        "print(means_df2)\n"
      ]
    },
    {
      "cell_type": "markdown",
      "metadata": {
        "id": "D8bUeMIxbrAW"
      },
      "source": [
        "* fs_means = Female treated mean\n",
        "* fns_means = Female not treated mean\n",
        "* f_diff = Difference (fs_means - fns_means)\n",
        "* ms_means = Male treated mean\n",
        "* mns_means = Male not treated mean\n",
        "* m_diff Difference (ms_means - mns_means)\n",
        "* diff_of_diff = f_diff - m_diff"
      ]
    },
    {
      "cell_type": "markdown",
      "metadata": {
        "id": "oXd1k2XJbrAW"
      },
      "source": [
        "Using the previous data (from 3):"
      ]
    },
    {
      "cell_type": "code",
      "execution_count": null,
      "metadata": {
        "vscode": {
          "languageId": "r"
        },
        "id": "RPpyuWdrbrAW",
        "outputId": "740906e4-91d0-4ce5-89e5-f2b71e7b906a"
      },
      "outputs": [
        {
          "name": "stdout",
          "output_type": "stream",
          "text": [
            "            group       ATE       ATT\n",
            "1 Employment Both     0.038     0.038\n",
            "2  Employment (f)     0.066     0.066\n",
            "3  Employment (m)    -0.006    -0.006\n",
            "4     Salary Both 39851.191 39851.191\n",
            "5      Salary (f) 37462.658 37462.658\n",
            "6      Salary (m) 37123.674 37123.674\n"
          ]
        }
      ],
      "source": [
        "print(treat_frame)"
      ]
    },
    {
      "cell_type": "markdown",
      "metadata": {
        "id": "NwWjqbZKbrAW"
      },
      "source": [
        "We can see that there is a difference in employment treatment effect and salary treatment effect between men and women. The impact is greater for women, especially for employment."
      ]
    },
    {
      "cell_type": "markdown",
      "metadata": {
        "id": "n2B9iRcLbrAW"
      },
      "source": [
        "### Quetsion 5\n",
        "    The randomization took place within each training center. However, if the proportion of treated and controls sampled from each center is the same for all centers this turns out to be equivalent to randomizing overall (i.e. we can ignore that different people belong to different training centers). Check whether this is true in your data by testing the hypothesis that the results for the treatment effect are the same whether you allow for center fixed effects or not. "
      ]
    },
    {
      "cell_type": "code",
      "execution_count": null,
      "metadata": {
        "vscode": {
          "languageId": "r"
        },
        "id": "rWOTV52mbrAW",
        "outputId": "309f048d-6c53-4edf-c6b4-0b73a3d9e1b9"
      },
      "outputs": [
        {
          "name": "stdout",
          "output_type": "stream",
          "text": [
            "[1] \"Employment\"\n",
            "              Estimate Std. Error   t value   Pr(>|t|)\n",
            "(Intercept) 0.72305683 0.01116138 64.782010 0.00000000\n",
            "select      0.03778725 0.01537446  2.457794 0.01403142\n",
            "                 Estimate   Std. Error   t value     Pr(>|t|)\n",
            "(Intercept)  0.8041962963 1.741426e-02 46.180342 0.000000e+00\n",
            "select       0.0364552655 1.529222e-02  2.383910 1.718715e-02\n",
            "coursefixe  -0.0003544017 5.860595e-05 -6.047197 1.642232e-09\n",
            "[1] \"---------------------------------------------------------\"\n",
            "[1] \"Income\"\n",
            "             Estimate Std. Error   t value      Pr(>|t|)\n",
            "(Intercept) 215786.43   5443.210 39.643234 1.738639e-280\n",
            "select       39851.19   7497.853  5.315014  1.138801e-07\n",
            "               Estimate Std. Error   t value      Pr(>|t|)\n",
            "(Intercept) 228941.9522 8535.22690 26.823183 2.815375e-143\n",
            "select       39635.2298 7495.15401  5.288114  1.317979e-07\n",
            "coursefixe     -57.4608   28.72446 -2.000414  4.553908e-02\n"
          ]
        }
      ],
      "source": [
        "# Employment\n",
        "print(\"Employment\")\n",
        "casual_effect_e1 <- lm(empl_06 ~ select, data=dt)\n",
        "course_casual_effect_e1<-lm(empl_06 ~ select + coursefixe, data=dt)\n",
        "\n",
        "print(summary(casual_effect_e1)$coefficients)\n",
        "print(summary(course_casual_effect_e1)$coefficients)\n",
        "#summary(casual_effect)$coefficients[8]\n",
        "print(\"---------------------------------------------------------\")\n",
        "# Income\n",
        "print(\"Income\")\n",
        "casual_effect_i1 <- lm(salary_06 ~ select, data=dt)\n",
        "course_casual_effect_i1<-lm(salary_06 ~ select + coursefixe, data=dt)\n",
        "\n",
        "print(summary(casual_effect_i1)$coefficients)\n",
        "print(summary(course_casual_effect_i1)$coefficients)"
      ]
    },
    {
      "cell_type": "markdown",
      "metadata": {
        "id": "kyK8d130brAW"
      },
      "source": [
        "**Employment/Income**:\n",
        "Above we can see that the coefficient for *select* hardly changes when *coursefixe* is added. The p-values are also < 0.05, indicating we can be fairly confident in this quick regression analysis."
      ]
    },
    {
      "cell_type": "markdown",
      "metadata": {
        "id": "7Y4Zs1GTbrAW"
      },
      "source": [
        "### Question 6\n",
        "    Provide some intuition of  what  the  center  fixed  effects  capture.  Compare the  R2 when  you  include  and  do  not  include  fixed  effects.  Remember  that the  R2 =  1-(residual  sum  of  squares)/(total  sum  of  squares).  Using  this relationship  rewrite  the  F-statistic  comparing  the  regression  with  and without fixed effects and test the null hypothesis that they are not important.  How  do  you  interpret  this  result?  Can  the  center  fixed  effects be  significant  themselves  but  not  matter for estimating the treatment effect? Explain. "
      ]
    },
    {
      "cell_type": "markdown",
      "metadata": {
        "id": "aX_vGL5wbrAW"
      },
      "source": [
        "The center fixed effects allow us to do the above analysis. You need to account of these centers because the randomization occured *within* these centers. If you don't account for the course/center fixed effects, you essentially lose the ability to do bias analysis becase you lose the unit of randomization."
      ]
    },
    {
      "cell_type": "code",
      "execution_count": null,
      "metadata": {
        "vscode": {
          "languageId": "r"
        },
        "id": "a2ek36HObrAW",
        "outputId": "21dbf394-fa7c-4de7-d460-7d05829464a9"
      },
      "outputs": [
        {
          "name": "stdout",
          "output_type": "stream",
          "text": [
            "[1] \"Employment\"\n",
            "[1] \"R^2\"\n",
            "[1] 0.001863831\n",
            "[1] 0.0130241\n",
            "[1] \"F-stat\"\n",
            "   value \n",
            "6.040752 \n",
            "   value \n",
            "21.33788 \n",
            "[1] \"----------------\"\n",
            "[1] \"Income\"\n",
            "[1] \"R^2\"\n",
            "[1] 0.008656823\n",
            "[1] 0.009881966\n",
            "[1] \"F-stat\"\n",
            "   value \n",
            "28.24937 \n",
            "   value \n",
            "16.13862 \n",
            "Linear hypothesis test\n",
            "\n",
            "Hypothesis:\n",
            "coursefixe = 0\n",
            "\n",
            "Model 1: restricted model\n",
            "Model 2: empl_06 ~ select + coursefixe\n",
            "\n",
            "  Res.Df   RSS Df Sum of Sq      F    Pr(>F)    \n",
            "1   3235 617.0                                  \n",
            "2   3234 610.1  1    6.8988 36.569 1.642e-09 ***\n",
            "---\n",
            "Signif. codes:  0 ‘***’ 0.001 ‘**’ 0.01 ‘*’ 0.05 ‘.’ 0.1 ‘ ’ 1\n",
            "Linear hypothesis test\n",
            "\n",
            "Hypothesis:\n",
            "coursefixe = 0\n",
            "\n",
            "Model 1: restricted model\n",
            "Model 2: salary_06 ~ select + coursefixe\n",
            "\n",
            "  Res.Df        RSS Df  Sum of Sq      F  Pr(>F)  \n",
            "1   3235 1.4674e+14                               \n",
            "2   3234 1.4656e+14  1 1.8135e+11 4.0017 0.04554 *\n",
            "---\n",
            "Signif. codes:  0 ‘***’ 0.001 ‘**’ 0.01 ‘*’ 0.05 ‘.’ 0.1 ‘ ’ 1\n"
          ]
        }
      ],
      "source": [
        "# Employment\n",
        "print(\"Employment\")\n",
        "casual_effect_e2 <- lm(empl_06 ~ select, data=dt)\n",
        "course_casual_effect_e2<-lm(empl_06 ~ select + coursefixe, data=dt)\n",
        "print(\"R^2\")\n",
        "print(summary(casual_effect_e2)$r.squared)\n",
        "print(summary(course_casual_effect_e2)$r.squared)\n",
        "print(\"F-stat\")\n",
        "print(summary(casual_effect_e2)$fstatistic[1])\n",
        "print(summary(course_casual_effect_e2)$fstatistic[1])\n",
        "\n",
        "print(\"----------------\")\n",
        "\n",
        "# Income\n",
        "print(\"Income\")\n",
        "casual_effect_i2 <- lm(salary_06 ~ select, data=dt)\n",
        "course_casual_effect_i2<-lm(salary_06 ~ select + coursefixe, data=dt)\n",
        "print(\"R^2\")\n",
        "print(summary(casual_effect_i2)$r.squared)\n",
        "print(summary(course_casual_effect_i2)$r.squared)\n",
        "print(\"F-stat\")\n",
        "print(summary(casual_effect_i2)$fstatistic[1])\n",
        "print(summary(course_casual_effect_i2)$fstatistic[1])"
      ]
    },
    {
      "cell_type": "markdown",
      "metadata": {
        "id": "ujACGhL6brAW"
      },
      "source": [
        "* 1st value represents regression without the fixed effect\n",
        "* 2nd value includes fixed effect\n",
        "\n",
        "The slightly higher R^2 (especiallly for employment) isnt worrying because we don't expect treatment to explain all of employment (or even a large amount). \n",
        "\n",
        "Next, we can run hypothesis tests:"
      ]
    },
    {
      "cell_type": "code",
      "execution_count": null,
      "metadata": {
        "vscode": {
          "languageId": "r"
        },
        "id": "xjnRT3CZbrAW",
        "outputId": "0abbcff8-051f-4b8d-8df3-056a87b36398"
      },
      "outputs": [
        {
          "name": "stdout",
          "output_type": "stream",
          "text": [
            "Linear hypothesis test\n",
            "\n",
            "Hypothesis:\n",
            "coursefixe = 0\n",
            "\n",
            "Model 1: restricted model\n",
            "Model 2: empl_06 ~ select + coursefixe\n",
            "\n",
            "  Res.Df   RSS Df Sum of Sq      F    Pr(>F)    \n",
            "1   3235 617.0                                  \n",
            "2   3234 610.1  1    6.8988 36.569 1.642e-09 ***\n",
            "---\n",
            "Signif. codes:  0 ‘***’ 0.001 ‘**’ 0.01 ‘*’ 0.05 ‘.’ 0.1 ‘ ’ 1\n",
            "Linear hypothesis test\n",
            "\n",
            "Hypothesis:\n",
            "coursefixe = 0\n",
            "\n",
            "Model 1: restricted model\n",
            "Model 2: salary_06 ~ select + coursefixe\n",
            "\n",
            "  Res.Df        RSS Df  Sum of Sq      F  Pr(>F)  \n",
            "1   3235 1.4674e+14                               \n",
            "2   3234 1.4656e+14  1 1.8135e+11 4.0017 0.04554 *\n",
            "---\n",
            "Signif. codes:  0 ‘***’ 0.001 ‘**’ 0.01 ‘*’ 0.05 ‘.’ 0.1 ‘ ’ 1\n"
          ]
        }
      ],
      "source": [
        "test1<- linearHypothesis(course_casual_effect_e2, c(\"coursefixe=0\"))\n",
        "test2<- linearHypothesis(course_casual_effect_i2, c(\"coursefixe=0\"))\n",
        "print(test1)\n",
        "print(test2)"
      ]
    },
    {
      "cell_type": "markdown",
      "metadata": {
        "id": "OfQmtG8ubrAW"
      },
      "source": [
        "Though *coursefixe* for income has a larger p-value, they are both still significant enough to accept the hypothesis that *coursefixe* does not matter when estimating treatment effect. That doesn't mean that it can't be significant. "
      ]
    },
    {
      "cell_type": "markdown",
      "metadata": {
        "id": "DMxg_bWobrAW"
      },
      "source": [
        "### Question 7\n",
        "    What  is  the  treatment  unit:  the  center  or  the  individual?  Do  you  need  to take  into account  of  clustering  when  computing  the  standard  errors? Explain your answer. "
      ]
    },
    {
      "cell_type": "markdown",
      "metadata": {
        "id": "7R6xrpEybrAW"
      },
      "source": [
        "The treatment unit is the individual because the individual is the one which a treatment is constant. However, because of the analysis we did in Question 5 (our data shows that we can actually treat our data as if we randomized all), we can treat the unit of randomization as the individual. If we found that Q5 showed the opposite, we would need to take into account clustering RCT for any SE analysis because we would need to cluster the centers to prevent selection bias in our treatment effects."
      ]
    },
    {
      "cell_type": "markdown",
      "metadata": {
        "id": "48P6q-tWbrAX"
      },
      "source": [
        "### Question 8\n",
        "    Provide  an  intuition  at  to  why  such  a  program  could  affect  marriage. Estimate the effect of the program on marriage by gender. "
      ]
    },
    {
      "cell_type": "markdown",
      "metadata": {
        "id": "jnRXDMAdbrAX"
      },
      "source": [
        "We'll look at the treatment effect on a created variabel *m_change* which is\n",
        "* 1 if someone got married in period 2 and wasn't in period 1\n",
        "* 0 if marriage didn't change\n",
        "* -1 if someone was married in period 1 but not in period 2\n",
        "\n",
        "Note: This shows a certain effect, that of change in marriage which I think is more important than marriage itself. A better way to do just marriage is to calculate the difference in difference in marriage in the two period and account for that in the calculation. "
      ]
    },
    {
      "cell_type": "code",
      "execution_count": null,
      "metadata": {
        "vscode": {
          "languageId": "r"
        },
        "id": "IX2-Gm0QbrAX",
        "outputId": "a4fc4823-11e3-4bc2-8cc3-5e43db976e36"
      },
      "outputs": [
        {
          "name": "stdout",
          "output_type": "stream",
          "text": [
            "  Group_Change   ATE\n",
            "1     Together 0.009\n",
            "2       Female 0.004\n",
            "3         Male 0.015\n"
          ]
        }
      ],
      "source": [
        "# Treatment effect for employment overall\n",
        "dt$m_change <- dt$dmarried_s-dt$dmarried_lb\n",
        "E_Y_X_1 <- dt %>% filter(select==1) %>% summarise(conditional_mean = mean(m_change,na.rm=TRUE))\n",
        "E_Y_X_0 <- dt %>% filter(select==0) %>% summarise(conditional_mean = mean(m_change, na.rm=TRUE))\n",
        "ATE_both <- round(as.double(E_Y_X_1 - E_Y_X_0), digits=3)\n",
        "\n",
        "# Women\n",
        "dt_f$m_change <- dt_f$dmarried_s-dt_f$dmarried_lb\n",
        "E_Y_X_1 <- dt_f %>% filter(select==1) %>% summarise(conditional_mean = mean(m_change,na.rm=TRUE))\n",
        "E_Y_X_0 <- dt_f %>% filter(select==0) %>% summarise(conditional_mean = mean(m_change, na.rm=TRUE))\n",
        "ATE_f <- round(as.double(E_Y_X_1 - E_Y_X_0), digits=3)\n",
        "\n",
        "# Men\n",
        "dt_m$m_change <- dt_m$dmarried_s-dt_m$dmarried_lb\n",
        "E_Y_X_1 <- dt_m %>% filter(select==1) %>% summarise(conditional_mean = mean(m_change,na.rm=TRUE))\n",
        "E_Y_X_0 <- dt_m %>% filter(select==0) %>% summarise(conditional_mean = mean(m_change, na.rm=TRUE))\n",
        "ATE_m <- round(as.double(E_Y_X_1 - E_Y_X_0), digits=3)\n",
        "\n",
        "\n",
        "# All together:\n",
        "ATE <- c(ATE_both, ATE_f, ATE_m)\n",
        "Group_Change <- c('Together', 'Female', 'Male')\n",
        "print(data.frame(Group_Change, ATE))"
      ]
    },
    {
      "cell_type": "markdown",
      "metadata": {
        "id": "4wEp5O9XbrAX"
      },
      "source": [
        "Above we can see that the estimated treatment made it more likely that men would have a \"positive\" change in marriage status. "
      ]
    },
    {
      "cell_type": "markdown",
      "metadata": {
        "id": "JanhsnacbrAX"
      },
      "source": [
        "### Question 9\n",
        "    Explore  the  effect  of  treatment  on  any  other  outcome  variable  of  your choice by gender. "
      ]
    },
    {
      "cell_type": "markdown",
      "metadata": {
        "id": "xFf6C9ZYbrAX"
      },
      "source": [
        "Tenure difference (period 2 - period 1)! There's some loss for everyone treated (6 months, 0.5) which has to be accounted for"
      ]
    },
    {
      "cell_type": "code",
      "execution_count": null,
      "metadata": {
        "vscode": {
          "languageId": "r"
        },
        "id": "uiZYLcMEbrAX",
        "outputId": "c6b46e95-18a9-4fc3-b81b-d6c418dc9b1f"
      },
      "outputs": [
        {
          "name": "stdout",
          "output_type": "stream",
          "text": [
            "  Group_Change    ATE\n",
            "1     Together -2.393\n",
            "2       Female -1.607\n",
            "3         Male -3.546\n"
          ]
        }
      ],
      "source": [
        "# Treatment effect for employment overall\n",
        "dt$tenure_diff <- dt$tenure_06-dt$tenure_04\n",
        "E_Y_X_1 <- dt %>% filter(select==1) %>% summarise(conditional_mean = mean(tenure_diff,na.rm=TRUE))\n",
        "E_Y_X_0 <- dt %>% filter(select==0) %>% summarise(conditional_mean = mean(tenure_diff+0.5, na.rm=TRUE))\n",
        "ATE_both <- round(as.double(E_Y_X_1 - E_Y_X_0), digits=3)\n",
        "\n",
        "# Women\n",
        "dt_f$tenure_diff <- dt_f$tenure_06-dt_f$tenure_04\n",
        "E_Y_X_1 <- dt_f %>% filter(select==1) %>% summarise(conditional_mean = mean(tenure_diff,na.rm=TRUE))\n",
        "E_Y_X_0 <- dt_f %>% filter(select==0) %>% summarise(conditional_mean = mean(tenure_diff+0.5, na.rm=TRUE))\n",
        "ATE_f <- round(as.double(E_Y_X_1 - E_Y_X_0), digits=3)\n",
        "\n",
        "# Men\n",
        "dt_m$tenure_diff <- dt_m$tenure_06-dt_m$tenure_04\n",
        "E_Y_X_1 <- dt_m %>% filter(select==1) %>% summarise(conditional_mean = mean(tenure_diff,na.rm=TRUE))\n",
        "E_Y_X_0 <- dt_m %>% filter(select==0) %>% summarise(conditional_mean = mean(tenure_diff+0.5, na.rm=TRUE))\n",
        "ATE_m <- round(as.double(E_Y_X_1 - E_Y_X_0), digits=3)\n",
        "\n",
        "\n",
        "# All together:\n",
        "ATE <- c(ATE_both, ATE_f, ATE_m)\n",
        "Group_Change <- c('Together', 'Female', 'Male')\n",
        "print(data.frame(Group_Change, ATE))"
      ]
    },
    {
      "cell_type": "markdown",
      "metadata": {
        "id": "9qOXqIPDbrAX"
      },
      "source": [
        "It's probably expected that the average treatment of tenure is negative. This indicates that people probably switch jobs. What is interesting is that there is a meaningful difference between men and women. We can look at the mean values below:"
      ]
    },
    {
      "cell_type": "code",
      "execution_count": null,
      "metadata": {
        "vscode": {
          "languageId": "r"
        },
        "id": "MpzeuT6nbrAX",
        "outputId": "24da9419-6071-4bbd-98c8-eaf59bca6f8e"
      },
      "outputs": [
        {
          "name": "stdout",
          "output_type": "stream",
          "text": [
            "[1] 3.205764\n",
            "[1] 5.223993\n"
          ]
        }
      ],
      "source": [
        "print(mean(dt_f$tenure_06, na.rm=TRUE) - mean(dt_f$tenure_04, na.rm=TRUE))\n",
        "print(mean(dt_m$tenure_06, na.rm=TRUE) - mean(dt_m$tenure_04, na.rm=TRUE))"
      ]
    },
    {
      "cell_type": "markdown",
      "metadata": {
        "id": "8hdaPdmibrAX"
      },
      "source": [
        "Above shows that the increase in average tenure is less for women than for men across the board. "
      ]
    },
    {
      "cell_type": "code",
      "execution_count": null,
      "metadata": {
        "vscode": {
          "languageId": "r"
        },
        "id": "abHjhriObrAX",
        "outputId": "4ee0a6ff-50cb-4c25-85f4-58a0a8405575"
      },
      "outputs": [
        {
          "name": "stdout",
          "output_type": "stream",
          "text": [
            "[1] 2.573673\n",
            "[1] 3.767843\n"
          ]
        }
      ],
      "source": [
        "print(mean(filter(dt_f, select==1)$tenure_06, na.rm=TRUE) - mean(dt_f$tenure_04, na.rm=TRUE))\n",
        "print(mean(filter(dt_m,select==1)$tenure_06, na.rm=TRUE) - mean(dt_m$tenure_04, na.rm=TRUE))"
      ]
    },
    {
      "cell_type": "markdown",
      "metadata": {
        "id": "n6Z-asoRbrAX"
      },
      "source": [
        "Above shows that the increase in average tenure is less for women than for men when treated."
      ]
    },
    {
      "cell_type": "markdown",
      "metadata": {
        "id": "Q-pNa2f4brAX"
      },
      "source": [
        "The treatment analysis would suggest that \"treated\" women are more likely to stay at the same job and/or have greater tenure than they did before treatment (greater increase in tenure) when compared to men. Cool."
      ]
    },
    {
      "cell_type": "markdown",
      "metadata": {
        "id": "fwm4_MkobrAX"
      },
      "source": [
        "### Question 10\n",
        "    Redo  the  power  calculations  and  derive  the  sample  size  you  would  need to detect an effect of 3 percentage points on employment when the size of the test you use is 5% and the required power is 80%. What would it taketo increase power to 90%? What sample size would you need for a power of 90% when using a significance level of 1%?"
      ]
    },
    {
      "cell_type": "code",
      "execution_count": null,
      "metadata": {
        "vscode": {
          "languageId": "r"
        },
        "id": "BJtLbCNkbrAX",
        "outputId": "938ffefb-28a2-42e7-a07b-cc7e6418e21d"
      },
      "outputs": [
        {
          "data": {
            "text/html": [
              "1768.09504926251"
            ],
            "text/latex": [
              "1768.09504926251"
            ],
            "text/markdown": [
              "1768.09504926251"
            ],
            "text/plain": [
              "[1] 1768.095"
            ]
          },
          "metadata": {},
          "output_type": "display_data"
        },
        {
          "data": {
            "text/html": [
              "598.887552550357"
            ],
            "text/latex": [
              "598.887552550357"
            ],
            "text/markdown": [
              "598.887552550357"
            ],
            "text/plain": [
              "[1] 598.8876"
            ]
          },
          "metadata": {},
          "output_type": "display_data"
        }
      ],
      "source": [
        "power<-pwr.2p.test(h = ES.h(p1 = mean(sel$empl_06, na.rm=TRUE), p2 = mean(nsel$empl_06, na.rm=TRUE)), sig.level = 0.05, power = .80)\n",
        "\n",
        "power2<-pwr.2p.test(h = ES.h(p1 = 0.1, p2 = 0.13), sig.level = 0.05, power = .80)\n",
        "#plot(power2)\n",
        "power3<-pwr.2p.test(h = ES.h(p1 = 0.1, p2 = 0.13), sig.level = 0.05, power = .90)\n",
        "#plot(power3)\n",
        "power2$n\n",
        "power3$n-power2$n"
      ]
    },
    {
      "cell_type": "markdown",
      "metadata": {
        "id": "9xjK85uIbrAX"
      },
      "source": [
        "Above we can see we would need n=1769 to detect the 3 percentage point effect and 599 more to increase that power from 80% to 90%"
      ]
    },
    {
      "cell_type": "markdown",
      "metadata": {
        "id": "AxtSHf2ZbrAX"
      },
      "source": [
        "### Question 11\n",
        "    Compare the results in the two papers and draw conclusions on the value of  the  intervention. Consider  the  cost-benefit  calculations  in  the  first paper and given the second paper discuss whether the assumptions made for the cost-benefit analysis in the first paper were accurate."
      ]
    },
    {
      "cell_type": "markdown",
      "metadata": {
        "id": "61CPXONcbrAX"
      },
      "source": [
        "The results of the first paper showed postive treament effects for everyone's employment and women's earnings (overall, lots of improvments for women). This dataset was smaller than that used in the second paper which showed positive treatment effects for everyone's employment and earnings. The second paper, due to a lack of data on informal sectors, cannot do a comprehensive cost-benefit analysis. The first paper also has this problem, with the formal==0 meaning unemployment or informal sector. As such, the first paper should use the \"conservative\" analysis that the second does (assuming no employment growth in the informal sector) to establish a lower-bound."
      ]
    },
    {
      "cell_type": "markdown",
      "metadata": {
        "id": "G17J0kQEbrAY"
      },
      "source": [
        "### Question 12\n",
        "    What  conclusions  does  the  first  experiment  reach  on  the  effectiveness  of the  program  for  men?  Are  these  modified  when  considering  the  follow up?  Explain.  Also  Consider  Figure  1  in  the  follow-up  paper  (page  136). Why are the figures on the left so much noisier than the ones on the right? "
      ]
    },
    {
      "cell_type": "markdown",
      "metadata": {
        "id": "8U3pfa7AbrAY"
      },
      "source": [
        "The first experiment still sees the program being effective for men (though in fewer areas as women). Notably, income increased.\n",
        "\n",
        "In the second paper, figure 1, the left figures are much noiser because they have been selected to give the experiment more signal. This increased signal could be the reason that the second paper found that the program was effective in more areas for men than the first paper"
      ]
    },
    {
      "cell_type": "markdown",
      "metadata": {
        "id": "oR4yBCYQbrAY"
      },
      "source": [
        "### Question 13\n",
        "    Write  a  short  report  (300  words  approx.)  on  your  evaluation  of  this experiment. Within your report discuss possible issues relating to scaling up  the  program to  the  whole  economy  and  whether  the  information obtained  from  the  experiment  is  sufficient  for  making  the  decision  to adopt the program nationally. "
      ]
    },
    {
      "cell_type": "markdown",
      "metadata": {
        "id": "3XRdS6mPbrAY"
      },
      "source": [
        "A good summary of the papers is that the first describes the initial results of a program, pending further robust research as given in the second paper. The first is a smaller dataset, the second is larger. The first (probably) has a weaker signal, the second has a stronger one. Overall, both show that this training program *is*, on average, beneficial to those who are able to take part. The results are conclusive enough to adopt the program on a greater scale. There would be new observations in locational fixtures, but the locations were taken into account in the datasets. The signal in some locations was likely not very high, but the overall results seem to show an improvement with treatment. A problem that the government would have to account for is volunteering. The papers describe that similar programs often have difficulty applying treatment to a randomization of the population because certain people (especially women) do not sign up for treatment even though it is shown to help. A solution could be to... force treatment, but that isn't even a perfect solution because that wouldn't guarantee the same results as the randomized trails in the paper (forced treatment effect != volunteered treatment effect). A better, harder, solution would be to initiate education/opportunity programs across the country alongside the ability to train. There are likely many psychological factors that could help improve volunteer randomization. Additionally, it would probably be wise to establish certain criteria for people to get treatment/training to maximize cost-benefit (ex: work a certain amount of years before training). This could be tuned to maximize cost-benefit for (an assumed) randomized treated individual. \n",
        "\n",
        "In summary, **is the information obtained  from  the  experiment  is  sufficient  for  making  the  decision  to adopt the program nationally**? \n",
        "\n",
        "Yes and no. Yes because the results are very *promising* and highly suggest that the program should be implemented. No/maybe if treatment allocation isn't handled correctly."
      ]
    }
  ],
  "metadata": {
    "kernelspec": {
      "display_name": "R",
      "language": "R",
      "name": "ir"
    },
    "language_info": {
      "codemirror_mode": "r",
      "file_extension": ".r",
      "mimetype": "text/x-r-source",
      "name": "R",
      "pygments_lexer": "r",
      "version": "4.2.2"
    },
    "orig_nbformat": 4,
    "colab": {
      "provenance": [],
      "include_colab_link": true
    }
  },
  "nbformat": 4,
  "nbformat_minor": 0
}